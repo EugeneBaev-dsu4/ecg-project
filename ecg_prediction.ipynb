{
  "metadata": {
    "kernelspec": {
      "language": "python",
      "display_name": "Python 3",
      "name": "python3"
    },
    "language_info": {
      "name": "python",
      "version": "3.7.12",
      "mimetype": "text/x-python",
      "codemirror_mode": {
        "name": "ipython",
        "version": 3
      },
      "pygments_lexer": "ipython3",
      "nbconvert_exporter": "python",
      "file_extension": ".py"
    },
    "kaggle": {
      "accelerator": "nvidiaTeslaT4",
      "dataSources": [
        {
          "sourceId": 1490938,
          "sourceType": "datasetVersion",
          "datasetId": 875281
        },
        {
          "sourceId": 4587468,
          "sourceType": "datasetVersion",
          "datasetId": 2674556
        },
        {
          "sourceId": 4793609,
          "sourceType": "datasetVersion",
          "datasetId": 2775229
        },
        {
          "sourceId": 5018894,
          "sourceType": "datasetVersion",
          "datasetId": 2912337
        }
      ],
      "dockerImageVersionId": 30302,
      "isInternetEnabled": true,
      "language": "python",
      "sourceType": "notebook",
      "isGpuEnabled": true
    },
    "colab": {
      "provenance": []
    }
  },
  "nbformat_minor": 0,
  "nbformat": 4,
  "cells": [
    {
      "cell_type": "code",
      "source": [
        "import numpy as np\n",
        "import pandas as pd\n",
        "from pathlib import Path\n",
        "import os.path\n",
        "import matplotlib.pyplot as plt\n",
        "import tensorflow as tf\n",
        "import cv2"
      ],
      "metadata": {
        "_uuid": "8f2839f25d086af736a60e9eeb907d3b93b6e0e5",
        "_cell_guid": "b1076dfc-b9ad-4769-8c92-a6c4dae69d19",
        "execution": {
          "iopub.status.busy": "2023-10-27T19:19:30.911866Z",
          "iopub.execute_input": "2023-10-27T19:19:30.912188Z",
          "iopub.status.idle": "2023-10-27T19:19:30.917610Z",
          "shell.execute_reply.started": "2023-10-27T19:19:30.912159Z",
          "shell.execute_reply": "2023-10-27T19:19:30.916637Z"
        },
        "trusted": true,
        "id": "QCbRYN8vPEQS"
      },
      "execution_count": 2,
      "outputs": []
    },
    {
      "cell_type": "markdown",
      "source": [
        "# N: Normal beat\n",
        "# S: Supraventricular premature beat\n",
        "# V: Premature ventricular contraction\n",
        "# F: Fusion of ventricular and normal beat\n",
        "# Q: Unclassifiable beat\n",
        "# M: myocardial infarction"
      ],
      "metadata": {
        "id": "7aAVevGiPEQW"
      }
    },
    {
      "cell_type": "markdown",
      "source": [
        "# train set"
      ],
      "metadata": {
        "id": "wGiH9FlgPEQY"
      }
    },
    {
      "cell_type": "code",
      "source": [
        "%%time\n",
        "dir = Path('/kaggle/input/train')\n",
        "\n",
        "filepaths = list(dir.glob(r'**/*.png'))\n",
        "labels = list(map(lambda x: os.path.split(os.path.split(x)[0])[1], filepaths))\n",
        "\n",
        "\n",
        "filepaths = pd.Series(filepaths, name='Filepath').astype(str)\n",
        "labels = pd.Series(labels, name='Label')\n",
        "\n",
        "dataframe = pd.concat([filepaths , labels] , axis=1)\n",
        "dataframe"
      ],
      "metadata": {
        "execution": {
          "iopub.status.busy": "2023-10-27T19:19:30.929276Z",
          "iopub.execute_input": "2023-10-27T19:19:30.929562Z",
          "iopub.status.idle": "2023-10-27T19:21:53.167022Z",
          "shell.execute_reply.started": "2023-10-27T19:19:30.929536Z",
          "shell.execute_reply": "2023-10-27T19:21:53.166027Z"
        },
        "trusted": true,
        "colab": {
          "base_uri": "https://localhost:8080/",
          "height": 142
        },
        "id": "HBsufxp-PEQY",
        "outputId": "73daf27a-d3e0-4629-bb44-fb1278ddee9d"
      },
      "execution_count": 3,
      "outputs": [
        {
          "output_type": "stream",
          "name": "stdout",
          "text": [
            "CPU times: user 5.26 ms, sys: 968 µs, total: 6.22 ms\n",
            "Wall time: 27.2 ms\n"
          ]
        },
        {
          "output_type": "stream",
          "name": "stderr",
          "text": [
            "<timed exec>:7: FutureWarning: The default dtype for empty Series will be 'object' instead of 'float64' in a future version. Specify a dtype explicitly to silence this warning.\n",
            "<timed exec>:8: FutureWarning: The default dtype for empty Series will be 'object' instead of 'float64' in a future version. Specify a dtype explicitly to silence this warning.\n"
          ]
        },
        {
          "output_type": "execute_result",
          "data": {
            "text/plain": [
              "Empty DataFrame\n",
              "Columns: [Filepath, Label]\n",
              "Index: []"
            ],
            "text/html": [
              "\n",
              "  <div id=\"df-32facefc-a5b7-43a9-a652-299678f7a731\" class=\"colab-df-container\">\n",
              "    <div>\n",
              "<style scoped>\n",
              "    .dataframe tbody tr th:only-of-type {\n",
              "        vertical-align: middle;\n",
              "    }\n",
              "\n",
              "    .dataframe tbody tr th {\n",
              "        vertical-align: top;\n",
              "    }\n",
              "\n",
              "    .dataframe thead th {\n",
              "        text-align: right;\n",
              "    }\n",
              "</style>\n",
              "<table border=\"1\" class=\"dataframe\">\n",
              "  <thead>\n",
              "    <tr style=\"text-align: right;\">\n",
              "      <th></th>\n",
              "      <th>Filepath</th>\n",
              "      <th>Label</th>\n",
              "    </tr>\n",
              "  </thead>\n",
              "  <tbody>\n",
              "  </tbody>\n",
              "</table>\n",
              "</div>\n",
              "    <div class=\"colab-df-buttons\">\n",
              "\n",
              "  <div class=\"colab-df-container\">\n",
              "    <button class=\"colab-df-convert\" onclick=\"convertToInteractive('df-32facefc-a5b7-43a9-a652-299678f7a731')\"\n",
              "            title=\"Convert this dataframe to an interactive table.\"\n",
              "            style=\"display:none;\">\n",
              "\n",
              "  <svg xmlns=\"http://www.w3.org/2000/svg\" height=\"24px\" viewBox=\"0 -960 960 960\">\n",
              "    <path d=\"M120-120v-720h720v720H120Zm60-500h600v-160H180v160Zm220 220h160v-160H400v160Zm0 220h160v-160H400v160ZM180-400h160v-160H180v160Zm440 0h160v-160H620v160ZM180-180h160v-160H180v160Zm440 0h160v-160H620v160Z\"/>\n",
              "  </svg>\n",
              "    </button>\n",
              "\n",
              "  <style>\n",
              "    .colab-df-container {\n",
              "      display:flex;\n",
              "      gap: 12px;\n",
              "    }\n",
              "\n",
              "    .colab-df-convert {\n",
              "      background-color: #E8F0FE;\n",
              "      border: none;\n",
              "      border-radius: 50%;\n",
              "      cursor: pointer;\n",
              "      display: none;\n",
              "      fill: #1967D2;\n",
              "      height: 32px;\n",
              "      padding: 0 0 0 0;\n",
              "      width: 32px;\n",
              "    }\n",
              "\n",
              "    .colab-df-convert:hover {\n",
              "      background-color: #E2EBFA;\n",
              "      box-shadow: 0px 1px 2px rgba(60, 64, 67, 0.3), 0px 1px 3px 1px rgba(60, 64, 67, 0.15);\n",
              "      fill: #174EA6;\n",
              "    }\n",
              "\n",
              "    .colab-df-buttons div {\n",
              "      margin-bottom: 4px;\n",
              "    }\n",
              "\n",
              "    [theme=dark] .colab-df-convert {\n",
              "      background-color: #3B4455;\n",
              "      fill: #D2E3FC;\n",
              "    }\n",
              "\n",
              "    [theme=dark] .colab-df-convert:hover {\n",
              "      background-color: #434B5C;\n",
              "      box-shadow: 0px 1px 3px 1px rgba(0, 0, 0, 0.15);\n",
              "      filter: drop-shadow(0px 1px 2px rgba(0, 0, 0, 0.3));\n",
              "      fill: #FFFFFF;\n",
              "    }\n",
              "  </style>\n",
              "\n",
              "    <script>\n",
              "      const buttonEl =\n",
              "        document.querySelector('#df-32facefc-a5b7-43a9-a652-299678f7a731 button.colab-df-convert');\n",
              "      buttonEl.style.display =\n",
              "        google.colab.kernel.accessAllowed ? 'block' : 'none';\n",
              "\n",
              "      async function convertToInteractive(key) {\n",
              "        const element = document.querySelector('#df-32facefc-a5b7-43a9-a652-299678f7a731');\n",
              "        const dataTable =\n",
              "          await google.colab.kernel.invokeFunction('convertToInteractive',\n",
              "                                                    [key], {});\n",
              "        if (!dataTable) return;\n",
              "\n",
              "        const docLinkHtml = 'Like what you see? Visit the ' +\n",
              "          '<a target=\"_blank\" href=https://colab.research.google.com/notebooks/data_table.ipynb>data table notebook</a>'\n",
              "          + ' to learn more about interactive tables.';\n",
              "        element.innerHTML = '';\n",
              "        dataTable['output_type'] = 'display_data';\n",
              "        await google.colab.output.renderOutput(dataTable, element);\n",
              "        const docLink = document.createElement('div');\n",
              "        docLink.innerHTML = docLinkHtml;\n",
              "        element.appendChild(docLink);\n",
              "      }\n",
              "    </script>\n",
              "  </div>\n",
              "\n",
              "    </div>\n",
              "  </div>\n"
            ]
          },
          "metadata": {},
          "execution_count": 3
        }
      ]
    },
    {
      "cell_type": "code",
      "source": [
        "dataframe['Label'].value_counts()"
      ],
      "metadata": {
        "execution": {
          "iopub.status.busy": "2023-10-27T19:21:53.168344Z",
          "iopub.execute_input": "2023-10-27T19:21:53.168671Z",
          "iopub.status.idle": "2023-10-27T19:21:53.187117Z",
          "shell.execute_reply.started": "2023-10-27T19:21:53.168641Z",
          "shell.execute_reply": "2023-10-27T19:21:53.186037Z"
        },
        "trusted": true,
        "id": "BEKB9JITPEQa",
        "outputId": "96c5cfd3-df3b-48ba-a840-6a5c08287936"
      },
      "execution_count": null,
      "outputs": [
        {
          "execution_count": 131,
          "output_type": "execute_result",
          "data": {
            "text/plain": "N    75709\nM     8405\nQ     6431\nV     5789\nS     2223\nF      642\nName: Label, dtype: int64"
          },
          "metadata": {}
        }
      ]
    },
    {
      "cell_type": "code",
      "source": [
        "samples = []\n",
        "for category in ['N','M','Q','V','S','F']:\n",
        "    category_slice = dataframe.query(\"Label == @category\")\n",
        "    samples.append(category_slice.sample(640, random_state=1))\n",
        "\n",
        "dataframe_train = pd.concat(samples, axis=0).sample(frac=1.0, random_state=1).reset_index(drop=True)\n",
        "dataframe_train['Label'].value_counts()"
      ],
      "metadata": {
        "execution": {
          "iopub.status.busy": "2023-10-27T19:21:53.188462Z",
          "iopub.execute_input": "2023-10-27T19:21:53.188845Z",
          "iopub.status.idle": "2023-10-27T19:21:53.244770Z",
          "shell.execute_reply.started": "2023-10-27T19:21:53.188805Z",
          "shell.execute_reply": "2023-10-27T19:21:53.243821Z"
        },
        "trusted": true,
        "id": "rwmWNdKpPEQb",
        "outputId": "8fd87f2a-46f3-4e32-a8a3-7d6030ddeb24"
      },
      "execution_count": null,
      "outputs": [
        {
          "execution_count": 132,
          "output_type": "execute_result",
          "data": {
            "text/plain": "N    640\nQ    640\nS    640\nF    640\nM    640\nV    640\nName: Label, dtype: int64"
          },
          "metadata": {}
        }
      ]
    },
    {
      "cell_type": "code",
      "source": [
        "#dataframe_train"
      ],
      "metadata": {
        "execution": {
          "iopub.status.busy": "2023-10-27T19:21:53.265478Z",
          "iopub.execute_input": "2023-10-27T19:21:53.265906Z",
          "iopub.status.idle": "2023-10-27T19:21:53.280415Z",
          "shell.execute_reply.started": "2023-10-27T19:21:53.265869Z",
          "shell.execute_reply": "2023-10-27T19:21:53.279470Z"
        },
        "trusted": true,
        "id": "CHSorl8dPEQd"
      },
      "execution_count": 4,
      "outputs": []
    },
    {
      "cell_type": "markdown",
      "source": [
        "# test set"
      ],
      "metadata": {
        "id": "B5QuXl1rPEQd"
      }
    },
    {
      "cell_type": "code",
      "source": [
        "%%time\n",
        "dir = Path('/kaggle/input/test')\n",
        "\n",
        "filepaths = list(dir.glob(r'**/*.png'))\n",
        "labels = list(map(lambda x: os.path.split(os.path.split(x)[0])[1], filepaths))\n",
        "\n",
        "filepaths = pd.Series(filepaths, name='Filepath').astype(str)\n",
        "labels = pd.Series(labels, name='Label')\n",
        "\n",
        "dataframe_test = pd.concat([filepaths , labels] , axis=1)\n",
        "dataframe_test"
      ],
      "metadata": {
        "execution": {
          "iopub.status.busy": "2023-10-27T19:21:53.281532Z",
          "iopub.execute_input": "2023-10-27T19:21:53.281893Z",
          "iopub.status.idle": "2023-10-27T19:22:24.972020Z",
          "shell.execute_reply.started": "2023-10-27T19:21:53.281861Z",
          "shell.execute_reply": "2023-10-27T19:22:24.970998Z"
        },
        "trusted": true,
        "colab": {
          "base_uri": "https://localhost:8080/",
          "height": 142
        },
        "id": "x0T5J7J2PEQe",
        "outputId": "3d871ea3-35b2-4b26-a870-9bff86892e29"
      },
      "execution_count": 5,
      "outputs": [
        {
          "output_type": "stream",
          "name": "stdout",
          "text": [
            "CPU times: user 2.14 ms, sys: 0 ns, total: 2.14 ms\n",
            "Wall time: 2.09 ms\n"
          ]
        },
        {
          "output_type": "stream",
          "name": "stderr",
          "text": [
            "<timed exec>:6: FutureWarning: The default dtype for empty Series will be 'object' instead of 'float64' in a future version. Specify a dtype explicitly to silence this warning.\n",
            "<timed exec>:7: FutureWarning: The default dtype for empty Series will be 'object' instead of 'float64' in a future version. Specify a dtype explicitly to silence this warning.\n"
          ]
        },
        {
          "output_type": "execute_result",
          "data": {
            "text/plain": [
              "Empty DataFrame\n",
              "Columns: [Filepath, Label]\n",
              "Index: []"
            ],
            "text/html": [
              "\n",
              "  <div id=\"df-bfefca2f-526e-4dba-b035-7750069ad07a\" class=\"colab-df-container\">\n",
              "    <div>\n",
              "<style scoped>\n",
              "    .dataframe tbody tr th:only-of-type {\n",
              "        vertical-align: middle;\n",
              "    }\n",
              "\n",
              "    .dataframe tbody tr th {\n",
              "        vertical-align: top;\n",
              "    }\n",
              "\n",
              "    .dataframe thead th {\n",
              "        text-align: right;\n",
              "    }\n",
              "</style>\n",
              "<table border=\"1\" class=\"dataframe\">\n",
              "  <thead>\n",
              "    <tr style=\"text-align: right;\">\n",
              "      <th></th>\n",
              "      <th>Filepath</th>\n",
              "      <th>Label</th>\n",
              "    </tr>\n",
              "  </thead>\n",
              "  <tbody>\n",
              "  </tbody>\n",
              "</table>\n",
              "</div>\n",
              "    <div class=\"colab-df-buttons\">\n",
              "\n",
              "  <div class=\"colab-df-container\">\n",
              "    <button class=\"colab-df-convert\" onclick=\"convertToInteractive('df-bfefca2f-526e-4dba-b035-7750069ad07a')\"\n",
              "            title=\"Convert this dataframe to an interactive table.\"\n",
              "            style=\"display:none;\">\n",
              "\n",
              "  <svg xmlns=\"http://www.w3.org/2000/svg\" height=\"24px\" viewBox=\"0 -960 960 960\">\n",
              "    <path d=\"M120-120v-720h720v720H120Zm60-500h600v-160H180v160Zm220 220h160v-160H400v160Zm0 220h160v-160H400v160ZM180-400h160v-160H180v160Zm440 0h160v-160H620v160ZM180-180h160v-160H180v160Zm440 0h160v-160H620v160Z\"/>\n",
              "  </svg>\n",
              "    </button>\n",
              "\n",
              "  <style>\n",
              "    .colab-df-container {\n",
              "      display:flex;\n",
              "      gap: 12px;\n",
              "    }\n",
              "\n",
              "    .colab-df-convert {\n",
              "      background-color: #E8F0FE;\n",
              "      border: none;\n",
              "      border-radius: 50%;\n",
              "      cursor: pointer;\n",
              "      display: none;\n",
              "      fill: #1967D2;\n",
              "      height: 32px;\n",
              "      padding: 0 0 0 0;\n",
              "      width: 32px;\n",
              "    }\n",
              "\n",
              "    .colab-df-convert:hover {\n",
              "      background-color: #E2EBFA;\n",
              "      box-shadow: 0px 1px 2px rgba(60, 64, 67, 0.3), 0px 1px 3px 1px rgba(60, 64, 67, 0.15);\n",
              "      fill: #174EA6;\n",
              "    }\n",
              "\n",
              "    .colab-df-buttons div {\n",
              "      margin-bottom: 4px;\n",
              "    }\n",
              "\n",
              "    [theme=dark] .colab-df-convert {\n",
              "      background-color: #3B4455;\n",
              "      fill: #D2E3FC;\n",
              "    }\n",
              "\n",
              "    [theme=dark] .colab-df-convert:hover {\n",
              "      background-color: #434B5C;\n",
              "      box-shadow: 0px 1px 3px 1px rgba(0, 0, 0, 0.15);\n",
              "      filter: drop-shadow(0px 1px 2px rgba(0, 0, 0, 0.3));\n",
              "      fill: #FFFFFF;\n",
              "    }\n",
              "  </style>\n",
              "\n",
              "    <script>\n",
              "      const buttonEl =\n",
              "        document.querySelector('#df-bfefca2f-526e-4dba-b035-7750069ad07a button.colab-df-convert');\n",
              "      buttonEl.style.display =\n",
              "        google.colab.kernel.accessAllowed ? 'block' : 'none';\n",
              "\n",
              "      async function convertToInteractive(key) {\n",
              "        const element = document.querySelector('#df-bfefca2f-526e-4dba-b035-7750069ad07a');\n",
              "        const dataTable =\n",
              "          await google.colab.kernel.invokeFunction('convertToInteractive',\n",
              "                                                    [key], {});\n",
              "        if (!dataTable) return;\n",
              "\n",
              "        const docLinkHtml = 'Like what you see? Visit the ' +\n",
              "          '<a target=\"_blank\" href=https://colab.research.google.com/notebooks/data_table.ipynb>data table notebook</a>'\n",
              "          + ' to learn more about interactive tables.';\n",
              "        element.innerHTML = '';\n",
              "        dataTable['output_type'] = 'display_data';\n",
              "        await google.colab.output.renderOutput(dataTable, element);\n",
              "        const docLink = document.createElement('div');\n",
              "        docLink.innerHTML = docLinkHtml;\n",
              "        element.appendChild(docLink);\n",
              "      }\n",
              "    </script>\n",
              "  </div>\n",
              "\n",
              "    </div>\n",
              "  </div>\n"
            ]
          },
          "metadata": {},
          "execution_count": 5
        }
      ]
    },
    {
      "cell_type": "code",
      "source": [
        "dataframe_test['Label'].value_counts()"
      ],
      "metadata": {
        "execution": {
          "iopub.status.busy": "2023-10-27T19:22:24.973449Z",
          "iopub.execute_input": "2023-10-27T19:22:24.973795Z",
          "iopub.status.idle": "2023-10-27T19:22:24.984364Z",
          "shell.execute_reply.started": "2023-10-27T19:22:24.973763Z",
          "shell.execute_reply": "2023-10-27T19:22:24.983416Z"
        },
        "trusted": true,
        "id": "Gi83m7A6PEQe",
        "outputId": "4ba8ca4a-8749-462d-94bc-a5ff64ab8c86"
      },
      "execution_count": null,
      "outputs": [
        {
          "execution_count": 137,
          "output_type": "execute_result",
          "data": {
            "text/plain": "N    18926\nM     2101\nQ     1608\nV     1447\nS      556\nF      161\nName: Label, dtype: int64"
          },
          "metadata": {}
        }
      ]
    },
    {
      "cell_type": "code",
      "source": [
        "samples = []\n",
        "for category in ['N','M','Q','V','S','F']:\n",
        "    category_slice = dataframe_test.query(\"Label == @category\")\n",
        "    samples.append(category_slice.sample(160, random_state=1))\n",
        "\n",
        "dataframe_test = pd.concat(samples, axis=0).sample(frac=1.0, random_state=1).reset_index(drop=True)\n",
        "dataframe_test['Label'].value_counts()"
      ],
      "metadata": {
        "execution": {
          "iopub.status.busy": "2023-10-27T19:22:24.985717Z",
          "iopub.execute_input": "2023-10-27T19:22:24.986004Z",
          "iopub.status.idle": "2023-10-27T19:22:25.021700Z",
          "shell.execute_reply.started": "2023-10-27T19:22:24.985976Z",
          "shell.execute_reply": "2023-10-27T19:22:25.020763Z"
        },
        "trusted": true,
        "id": "pHkkb1UbPEQf",
        "outputId": "c8c671da-a57d-4b32-8d8a-3b4509a876dc"
      },
      "execution_count": null,
      "outputs": [
        {
          "execution_count": 138,
          "output_type": "execute_result",
          "data": {
            "text/plain": "M    160\nF    160\nQ    160\nN    160\nV    160\nS    160\nName: Label, dtype: int64"
          },
          "metadata": {}
        }
      ]
    },
    {
      "cell_type": "code",
      "source": [
        "#dataframe_test"
      ],
      "metadata": {
        "execution": {
          "iopub.status.busy": "2023-10-27T19:22:25.045185Z",
          "iopub.execute_input": "2023-10-27T19:22:25.045578Z",
          "iopub.status.idle": "2023-10-27T19:22:25.059292Z",
          "shell.execute_reply.started": "2023-10-27T19:22:25.045538Z",
          "shell.execute_reply": "2023-10-27T19:22:25.058300Z"
        },
        "trusted": true,
        "id": "HqdPxerdPEQg"
      },
      "execution_count": 6,
      "outputs": []
    },
    {
      "cell_type": "markdown",
      "source": [
        "# Image generators"
      ],
      "metadata": {
        "id": "58UDdIr7PEQh"
      }
    },
    {
      "cell_type": "code",
      "source": [
        "def gray_torgb(image):\n",
        "    image = cv2.cvtColor(image, cv2.COLOR_BGR2GRAY)\n",
        "    image = cv2.merge((image,image,image))\n",
        "    image = tf.keras.applications.resnet50.preprocess_input(image)\n",
        "    return image\n"
      ],
      "metadata": {
        "execution": {
          "iopub.status.busy": "2023-10-27T19:22:25.060707Z",
          "iopub.execute_input": "2023-10-27T19:22:25.061338Z",
          "iopub.status.idle": "2023-10-27T19:22:25.068205Z",
          "shell.execute_reply.started": "2023-10-27T19:22:25.061300Z",
          "shell.execute_reply": "2023-10-27T19:22:25.067296Z"
        },
        "trusted": true,
        "id": "3rio4kVTPEQh"
      },
      "execution_count": null,
      "outputs": []
    },
    {
      "cell_type": "code",
      "source": [
        "train_generator = tf.keras.preprocessing.image.ImageDataGenerator(\n",
        "    preprocessing_function=gray_torgb,\n",
        "    rescale=1./255,\n",
        "    validation_split=0.2\n",
        "\n",
        ")\n",
        "\n",
        "test_generator = tf.keras.preprocessing.image.ImageDataGenerator(\n",
        "    preprocessing_function=gray_torgb,\n",
        "    rescale=1./255\n",
        ")"
      ],
      "metadata": {
        "execution": {
          "iopub.status.busy": "2023-10-27T19:22:25.069465Z",
          "iopub.execute_input": "2023-10-27T19:22:25.069750Z",
          "iopub.status.idle": "2023-10-27T19:22:25.079870Z",
          "shell.execute_reply.started": "2023-10-27T19:22:25.069724Z",
          "shell.execute_reply": "2023-10-27T19:22:25.079040Z"
        },
        "trusted": true,
        "id": "IJnL16xRPEQh"
      },
      "execution_count": null,
      "outputs": []
    },
    {
      "cell_type": "code",
      "source": [
        "size=224\n",
        "color_mode='rgb'\n",
        "batch_size=32\n",
        "\n",
        "train_images = train_generator.flow_from_dataframe(\n",
        "    dataframe=dataframe_train,\n",
        "    x_col='Filepath',\n",
        "    y_col='Label',\n",
        "    target_size=(size, size),\n",
        "    color_mode=color_mode,\n",
        "    class_mode='categorical',\n",
        "    batch_size=batch_size,\n",
        "    shuffle=True,\n",
        "    seed=42,\n",
        "    subset='training'\n",
        ")\n",
        "\n",
        "val_images = train_generator.flow_from_dataframe(\n",
        "    dataframe=dataframe_train,\n",
        "    x_col='Filepath',\n",
        "    y_col='Label',\n",
        "    target_size=(size, size),\n",
        "    color_mode=color_mode,\n",
        "    class_mode='categorical',\n",
        "    batch_size=batch_size,\n",
        "    shuffle=True,\n",
        "    seed=42,\n",
        "    subset='validation'\n",
        ")\n",
        "\n",
        "test_images = test_generator.flow_from_dataframe(\n",
        "    dataframe=dataframe_test,\n",
        "    x_col='Filepath',\n",
        "    y_col='Label',\n",
        "    target_size=(size, size),\n",
        "    color_mode=color_mode,\n",
        "    class_mode='categorical',\n",
        "    batch_size=batch_size,\n",
        "    shuffle=False\n",
        ")"
      ],
      "metadata": {
        "execution": {
          "iopub.status.busy": "2023-10-27T19:22:25.080871Z",
          "iopub.execute_input": "2023-10-27T19:22:25.081193Z",
          "iopub.status.idle": "2023-10-27T19:22:26.371666Z",
          "shell.execute_reply.started": "2023-10-27T19:22:25.081160Z",
          "shell.execute_reply": "2023-10-27T19:22:26.370639Z"
        },
        "trusted": true,
        "id": "s1BTUOYAPEQi",
        "outputId": "8e24b8ab-de0f-4b27-c49d-5ee49c273ed0"
      },
      "execution_count": null,
      "outputs": [
        {
          "name": "stdout",
          "text": "Found 3072 validated image filenames belonging to 6 classes.\nFound 768 validated image filenames belonging to 6 classes.\nFound 960 validated image filenames belonging to 6 classes.\n",
          "output_type": "stream"
        }
      ]
    },
    {
      "cell_type": "code",
      "source": [
        "test_images.class_indices"
      ],
      "metadata": {
        "execution": {
          "iopub.status.busy": "2023-10-27T19:22:26.374111Z",
          "iopub.execute_input": "2023-10-27T19:22:26.374529Z",
          "iopub.status.idle": "2023-10-27T19:22:26.381615Z",
          "shell.execute_reply.started": "2023-10-27T19:22:26.374491Z",
          "shell.execute_reply": "2023-10-27T19:22:26.380675Z"
        },
        "trusted": true,
        "id": "VZJzvQXHPEQi",
        "outputId": "6ce08904-14f9-4a9f-9582-7d071494b9e2"
      },
      "execution_count": null,
      "outputs": [
        {
          "execution_count": 145,
          "output_type": "execute_result",
          "data": {
            "text/plain": "{'F': 0, 'M': 1, 'N': 2, 'Q': 3, 'S': 4, 'V': 5}"
          },
          "metadata": {}
        }
      ]
    },
    {
      "cell_type": "code",
      "source": [
        "plt.imshow(test_images[0][0][3])"
      ],
      "metadata": {
        "execution": {
          "iopub.status.busy": "2023-10-27T19:22:26.382770Z",
          "iopub.execute_input": "2023-10-27T19:22:26.383021Z",
          "iopub.status.idle": "2023-10-27T19:22:26.720686Z",
          "shell.execute_reply.started": "2023-10-27T19:22:26.382996Z",
          "shell.execute_reply": "2023-10-27T19:22:26.719859Z"
        },
        "trusted": true,
        "id": "ckCf2TPiPEQi",
        "outputId": "444d09c2-1893-4c03-a313-5a558a1e27db"
      },
      "execution_count": null,
      "outputs": [
        {
          "execution_count": 146,
          "output_type": "execute_result",
          "data": {
            "text/plain": "<matplotlib.image.AxesImage at 0x7b95697c3c50>"
          },
          "metadata": {}
        },
        {
          "output_type": "display_data",
          "data": {
            "text/plain": "<Figure size 432x288 with 1 Axes>",
            "image/png": "[encoded data removed]"
          },
          "metadata": {
            "needs_background": "light"
          }
        }
      ]
    },
    {
      "cell_type": "markdown",
      "source": [
        "# Modeling"
      ],
      "metadata": {
        "id": "ez8nnlQUPEQj"
      }
    },
    {
      "cell_type": "code",
      "source": [
        "from tensorflow.keras.applications import MobileNetV2\n",
        "pretrained_model = MobileNetV2(\n",
        "                              input_shape=(224,224,3),\n",
        "                              include_top= False,\n",
        "                              weights='imagenet',\n",
        "                              pooling='avg'\n",
        "                              )\n",
        "\n",
        "pretrained_model.trainable = False\n"
      ],
      "metadata": {
        "execution": {
          "iopub.status.busy": "2023-10-27T19:46:02.176480Z",
          "iopub.execute_input": "2023-10-27T19:46:02.176970Z",
          "iopub.status.idle": "2023-10-27T19:46:03.394684Z",
          "shell.execute_reply.started": "2023-10-27T19:46:02.176916Z",
          "shell.execute_reply": "2023-10-27T19:46:03.393481Z"
        },
        "trusted": true,
        "id": "caq1BH19PEQj",
        "outputId": "d98c1c8c-ab03-47af-f235-495a0686dcfb"
      },
      "execution_count": null,
      "outputs": [
        {
          "name": "stdout",
          "text": "Downloading data from https://storage.googleapis.com/tensorflow/keras-applications/mobilenet_v2/mobilenet_v2_weights_tf_dim_ordering_tf_kernels_1.0_224_no_top.h5\n9412608/9406464 [==============================] - 0s 0us/step\n9420800/9406464 [==============================] - 0s 0us/step\n",
          "output_type": "stream"
        }
      ]
    },
    {
      "cell_type": "code",
      "source": [
        "from tensorflow.keras.layers import *\n",
        "from tensorflow.keras.models import *\n",
        "\n",
        "model = Sequential ([\n",
        "                        pretrained_model,\n",
        "                        Flatten(),\n",
        "                        Dropout(0.2),\n",
        "                        Dense(128, activation='relu'),\n",
        "                        Dense(64, activation='relu'),\n",
        "                        Dense(6, activation='softmax')\n",
        "                    ])\n",
        "\n",
        "\n",
        "model.summary()"
      ],
      "metadata": {
        "execution": {
          "iopub.status.busy": "2023-10-27T19:46:03.397641Z",
          "iopub.execute_input": "2023-10-27T19:46:03.398530Z",
          "iopub.status.idle": "2023-10-27T19:46:03.802231Z",
          "shell.execute_reply.started": "2023-10-27T19:46:03.398482Z",
          "shell.execute_reply": "2023-10-27T19:46:03.801131Z"
        },
        "trusted": true,
        "id": "prhET_EgPEQj",
        "outputId": "0868d486-9071-46cc-f21a-57bd87084201"
      },
      "execution_count": null,
      "outputs": [
        {
          "name": "stdout",
          "text": "Model: \"sequential_6\"\n_________________________________________________________________\nLayer (type)                 Output Shape              Param #   \n=================================================================\nmobilenetv2_1.00_224 (Functi (None, 1280)              2257984   \n_________________________________________________________________\nflatten_6 (Flatten)          (None, 1280)              0         \n_________________________________________________________________\ndropout_6 (Dropout)          (None, 1280)              0         \n_________________________________________________________________\ndense_18 (Dense)             (None, 128)               163968    \n_________________________________________________________________\ndense_19 (Dense)             (None, 64)                8256      \n_________________________________________________________________\ndense_20 (Dense)             (None, 6)                 390       \n=================================================================\nTotal params: 2,430,598\nTrainable params: 172,614\nNon-trainable params: 2,257,984\n_________________________________________________________________\n",
          "output_type": "stream"
        }
      ]
    },
    {
      "cell_type": "code",
      "source": [
        "import keras\n",
        "checkpoint = keras.callbacks.ModelCheckpoint(\n",
        "    filepath='best_model.h5',\n",
        "    save_weights_only=False,\n",
        "    monitor='val_accuracy',\n",
        "    mode='max',\n",
        "    save_best_only=True,\n",
        "    verbose=1)"
      ],
      "metadata": {
        "execution": {
          "iopub.status.busy": "2023-10-27T19:46:03.810529Z",
          "iopub.execute_input": "2023-10-27T19:46:03.810873Z",
          "iopub.status.idle": "2023-10-27T19:46:03.821942Z",
          "shell.execute_reply.started": "2023-10-27T19:46:03.810844Z",
          "shell.execute_reply": "2023-10-27T19:46:03.820987Z"
        },
        "trusted": true,
        "id": "hU4v4fZPPEQk"
      },
      "execution_count": null,
      "outputs": []
    },
    {
      "cell_type": "code",
      "source": [
        "model.compile(loss='categorical_crossentropy',optimizer='adam',\n",
        "            metrics=['accuracy',\n",
        "                     'Precision',\n",
        "                     'Recall',\n",
        "                     tf.keras.metrics.AUC(\n",
        "                                    num_thresholds=200,\n",
        "                                    curve=\"ROC\",\n",
        "                                    summation_method=\"interpolation\",\n",
        "                                    multi_label=False\n",
        "                                    )])"
      ],
      "metadata": {
        "execution": {
          "iopub.status.busy": "2023-10-27T19:46:03.824446Z",
          "iopub.execute_input": "2023-10-27T19:46:03.824752Z",
          "iopub.status.idle": "2023-10-27T19:46:03.845515Z",
          "shell.execute_reply.started": "2023-10-27T19:46:03.824725Z",
          "shell.execute_reply": "2023-10-27T19:46:03.844523Z"
        },
        "trusted": true,
        "id": "MTPiM7n7PEQk"
      },
      "execution_count": null,
      "outputs": []
    },
    {
      "cell_type": "code",
      "source": [
        "%%time\n",
        "result=model.fit(\n",
        "    train_images,\n",
        "    steps_per_epoch=3072//32,\n",
        "    validation_data=val_images,\n",
        "    validation_steps=768//32,\n",
        "    epochs=20,\n",
        "    callbacks=[checkpoint]\n",
        ")\n",
        "# 50 epochs"
      ],
      "metadata": {
        "execution": {
          "iopub.status.busy": "2023-10-27T19:46:03.846664Z",
          "iopub.execute_input": "2023-10-27T19:46:03.846938Z",
          "iopub.status.idle": "2023-10-27T19:52:18.920115Z",
          "shell.execute_reply.started": "2023-10-27T19:46:03.846911Z",
          "shell.execute_reply": "2023-10-27T19:52:18.919118Z"
        },
        "trusted": true,
        "id": "TDP0jJZsPEQl",
        "outputId": "33f78f59-8664-4b86-eac4-693bb5aa72af"
      },
      "execution_count": null,
      "outputs": [
        {
          "name": "stdout",
          "text": "Epoch 1/20\n96/96 [==============================] - 24s 213ms/step - loss: 0.7007 - accuracy: 0.7477 - precision: 0.8537 - recall: 0.6439 - auc_6: 0.9523 - val_loss: 0.3336 - val_accuracy: 0.8841 - val_precision: 0.9142 - val_recall: 0.8464 - val_auc_6: 0.9898\n\nEpoch 00001: val_accuracy improved from -inf to 0.88411, saving model to best_model.h5\n",
          "output_type": "stream"
        },
        {
          "name": "stderr",
          "text": "/opt/conda/lib/python3.7/site-packages/keras/utils/generic_utils.py:497: CustomMaskWarning: Custom mask layers require a config and must override get_config. When loading, the custom mask layer must be passed to the custom_objects argument.\n  category=CustomMaskWarning)\n",
          "output_type": "stream"
        },
        {
          "name": "stdout",
          "text": "Epoch 2/20\n96/96 [==============================] - 19s 196ms/step - loss: 0.3376 - accuracy: 0.8792 - precision: 0.8991 - recall: 0.8590 - auc_6: 0.9874 - val_loss: 0.2477 - val_accuracy: 0.9036 - val_precision: 0.9158 - val_recall: 0.8919 - val_auc_6: 0.9939\n\nEpoch 00002: val_accuracy improved from 0.88411 to 0.90365, saving model to best_model.h5\nEpoch 3/20\n96/96 [==============================] - 18s 191ms/step - loss: 0.2738 - accuracy: 0.8929 - precision: 0.9072 - recall: 0.8844 - auc_6: 0.9916 - val_loss: 0.2008 - val_accuracy: 0.9336 - val_precision: 0.9456 - val_recall: 0.9271 - val_auc_6: 0.9961\n\nEpoch 00003: val_accuracy improved from 0.90365 to 0.93359, saving model to best_model.h5\nEpoch 4/20\n96/96 [==============================] - 19s 201ms/step - loss: 0.2124 - accuracy: 0.9202 - precision: 0.9299 - recall: 0.9150 - auc_6: 0.9948 - val_loss: 0.2125 - val_accuracy: 0.9062 - val_precision: 0.9258 - val_recall: 0.8932 - val_auc_6: 0.9952\n\nEpoch 00004: val_accuracy did not improve from 0.93359\nEpoch 5/20\n96/96 [==============================] - 19s 197ms/step - loss: 0.2049 - accuracy: 0.9281 - precision: 0.9388 - recall: 0.9186 - auc_6: 0.9946 - val_loss: 0.2058 - val_accuracy: 0.9232 - val_precision: 0.9290 - val_recall: 0.9206 - val_auc_6: 0.9931\n\nEpoch 00005: val_accuracy did not improve from 0.93359\nEpoch 6/20\n96/96 [==============================] - 19s 197ms/step - loss: 0.1783 - accuracy: 0.9385 - precision: 0.9471 - recall: 0.9329 - auc_6: 0.9958 - val_loss: 0.1578 - val_accuracy: 0.9427 - val_precision: 0.9511 - val_recall: 0.9362 - val_auc_6: 0.9974\n\nEpoch 00006: val_accuracy improved from 0.93359 to 0.94271, saving model to best_model.h5\nEpoch 7/20\n96/96 [==============================] - 18s 187ms/step - loss: 0.1712 - accuracy: 0.9349 - precision: 0.9422 - recall: 0.9284 - auc_6: 0.9966 - val_loss: 0.1762 - val_accuracy: 0.9401 - val_precision: 0.9450 - val_recall: 0.9388 - val_auc_6: 0.9959\n\nEpoch 00007: val_accuracy did not improve from 0.94271\nEpoch 8/20\n96/96 [==============================] - 18s 193ms/step - loss: 0.1416 - accuracy: 0.9499 - precision: 0.9554 - recall: 0.9476 - auc_6: 0.9968 - val_loss: 0.1473 - val_accuracy: 0.9414 - val_precision: 0.9424 - val_recall: 0.9375 - val_auc_6: 0.9977\n\nEpoch 00008: val_accuracy did not improve from 0.94271\nEpoch 9/20\n96/96 [==============================] - 18s 188ms/step - loss: 0.1303 - accuracy: 0.9525 - precision: 0.9557 - recall: 0.9482 - auc_6: 0.9979 - val_loss: 0.3037 - val_accuracy: 0.8724 - val_precision: 0.8793 - val_recall: 0.8724 - val_auc_6: 0.9902\n\nEpoch 00009: val_accuracy did not improve from 0.94271\nEpoch 10/20\n96/96 [==============================] - 18s 190ms/step - loss: 0.1353 - accuracy: 0.9486 - precision: 0.9531 - recall: 0.9453 - auc_6: 0.9977 - val_loss: 0.2182 - val_accuracy: 0.9245 - val_precision: 0.9289 - val_recall: 0.9193 - val_auc_6: 0.9938\n\nEpoch 00010: val_accuracy did not improve from 0.94271\nEpoch 11/20\n96/96 [==============================] - 18s 190ms/step - loss: 0.1262 - accuracy: 0.9518 - precision: 0.9564 - recall: 0.9492 - auc_6: 0.9977 - val_loss: 0.1577 - val_accuracy: 0.9388 - val_precision: 0.9446 - val_recall: 0.9323 - val_auc_6: 0.9961\n\nEpoch 00011: val_accuracy did not improve from 0.94271\nEpoch 12/20\n96/96 [==============================] - 18s 189ms/step - loss: 0.1242 - accuracy: 0.9538 - precision: 0.9574 - recall: 0.9518 - auc_6: 0.9978 - val_loss: 0.1682 - val_accuracy: 0.9414 - val_precision: 0.9461 - val_recall: 0.9362 - val_auc_6: 0.9963\n\nEpoch 00012: val_accuracy did not improve from 0.94271\nEpoch 13/20\n96/96 [==============================] - 18s 185ms/step - loss: 0.1198 - accuracy: 0.9538 - precision: 0.9593 - recall: 0.9518 - auc_6: 0.9978 - val_loss: 0.1149 - val_accuracy: 0.9544 - val_precision: 0.9569 - val_recall: 0.9544 - val_auc_6: 0.9985\n\nEpoch 00013: val_accuracy improved from 0.94271 to 0.95443, saving model to best_model.h5\nEpoch 14/20\n96/96 [==============================] - 18s 188ms/step - loss: 0.1355 - accuracy: 0.9495 - precision: 0.9525 - recall: 0.9473 - auc_6: 0.9971 - val_loss: 0.1643 - val_accuracy: 0.9557 - val_precision: 0.9567 - val_recall: 0.9492 - val_auc_6: 0.9946\n\nEpoch 00014: val_accuracy improved from 0.95443 to 0.95573, saving model to best_model.h5\nEpoch 15/20\n96/96 [==============================] - 18s 190ms/step - loss: 0.1010 - accuracy: 0.9629 - precision: 0.9647 - recall: 0.9613 - auc_6: 0.9983 - val_loss: 0.1213 - val_accuracy: 0.9518 - val_precision: 0.9531 - val_recall: 0.9518 - val_auc_6: 0.9984\n\nEpoch 00015: val_accuracy did not improve from 0.95573\nEpoch 16/20\n96/96 [==============================] - 18s 189ms/step - loss: 0.0940 - accuracy: 0.9658 - precision: 0.9674 - recall: 0.9648 - auc_6: 0.9987 - val_loss: 0.1608 - val_accuracy: 0.9479 - val_precision: 0.9516 - val_recall: 0.9479 - val_auc_6: 0.9940\n\nEpoch 00016: val_accuracy did not improve from 0.95573\nEpoch 17/20\n96/96 [==============================] - 18s 188ms/step - loss: 0.1103 - accuracy: 0.9583 - precision: 0.9592 - recall: 0.9567 - auc_6: 0.9981 - val_loss: 0.1144 - val_accuracy: 0.9518 - val_precision: 0.9542 - val_recall: 0.9505 - val_auc_6: 0.9986\n\nEpoch 00017: val_accuracy did not improve from 0.95573\nEpoch 18/20\n96/96 [==============================] - 18s 192ms/step - loss: 0.0858 - accuracy: 0.9707 - precision: 0.9719 - recall: 0.9684 - auc_6: 0.9988 - val_loss: 0.1352 - val_accuracy: 0.9492 - val_precision: 0.9528 - val_recall: 0.9466 - val_auc_6: 0.9975\n\nEpoch 00018: val_accuracy did not improve from 0.95573\nEpoch 19/20\n96/96 [==============================] - 18s 188ms/step - loss: 0.1080 - accuracy: 0.9596 - precision: 0.9624 - recall: 0.9570 - auc_6: 0.9979 - val_loss: 0.1263 - val_accuracy: 0.9531 - val_precision: 0.9568 - val_recall: 0.9518 - val_auc_6: 0.9963\n\nEpoch 00019: val_accuracy did not improve from 0.95573\nEpoch 20/20\n96/96 [==============================] - 18s 188ms/step - loss: 0.0825 - accuracy: 0.9688 - precision: 0.9706 - recall: 0.9661 - auc_6: 0.9991 - val_loss: 0.1442 - val_accuracy: 0.9505 - val_precision: 0.9529 - val_recall: 0.9492 - val_auc_6: 0.9966\n\nEpoch 00020: val_accuracy did not improve from 0.95573\nCPU times: user 6min 26s, sys: 11.1 s, total: 6min 37s\nWall time: 6min 15s\n",
          "output_type": "stream"
        }
      ]
    },
    {
      "cell_type": "markdown",
      "source": [
        "# Result"
      ],
      "metadata": {
        "id": "2ymnf06pPEQl"
      }
    },
    {
      "cell_type": "code",
      "source": [
        "from keras.models import load_model\n",
        "best_model=load_model('/kaggle/working/best_model.h5')\n",
        "results = best_model.evaluate(test_images, verbose=0)\n",
        "\n",
        "print(\"     Test Loss: {:.4f}\".format(results[0]))\n",
        "print(\" Test Accuracy: {:.4f}%\".format(results[1] * 100))\n",
        "print(\"Test Precision: {:.4f}%\".format(results[2] * 100))\n",
        "print(\"   Test Recall: {:.4f}%\".format(results[3] * 100))\n",
        "print(\"      Test AUC: {:.4f}\".format(results[4] ))\n"
      ],
      "metadata": {
        "execution": {
          "iopub.status.busy": "2023-10-27T19:52:18.921715Z",
          "iopub.execute_input": "2023-10-27T19:52:18.922147Z",
          "iopub.status.idle": "2023-10-27T19:52:27.148185Z",
          "shell.execute_reply.started": "2023-10-27T19:52:18.922099Z",
          "shell.execute_reply": "2023-10-27T19:52:27.147130Z"
        },
        "trusted": true,
        "id": "h2PSQVpGPEQl",
        "outputId": "3995293a-845a-463d-a040-385bae2d05cd"
      },
      "execution_count": null,
      "outputs": [
        {
          "name": "stdout",
          "text": "     Test Loss: 0.1633\n Test Accuracy: 94.2708%\nTest Precision: 94.5435%\n   Test Recall: 93.8542%\n      Test AUC: 0.9952\n",
          "output_type": "stream"
        }
      ]
    },
    {
      "cell_type": "code",
      "source": [
        "import matplotlib.pyplot as plt\n",
        "\n",
        "plt.plot(result.history['loss'])\n",
        "plt.plot(result.history['val_loss'])\n",
        "plt.legend(['Training', 'Validation'])\n",
        "plt.title('Training and Validation losses')\n",
        "plt.xlabel('epoch')\n",
        "plt.ylabel('loss')\n",
        "plt.savefig( 'loss.jpg', dpi=500, bbox_inches = 'tight')"
      ],
      "metadata": {
        "execution": {
          "iopub.status.busy": "2023-10-27T19:52:27.149477Z",
          "iopub.execute_input": "2023-10-27T19:52:27.149767Z",
          "iopub.status.idle": "2023-10-27T19:52:27.629186Z",
          "shell.execute_reply.started": "2023-10-27T19:52:27.149739Z",
          "shell.execute_reply": "2023-10-27T19:52:27.628158Z"
        },
        "trusted": true,
        "id": "YstVZ8qZPEQm",
        "outputId": "da39e85a-19ea-46f9-a87f-a0ae039a26bf"
      },
      "execution_count": null,
      "outputs": [
        {
          "output_type": "display_data",
          "data": {
            "text/plain": "<Figure size 432x288 with 1 Axes>",
            "image/png": "[encoded data removed]"
          },
          "metadata": {
            "needs_background": "light"
          }
        }
      ]
    },
    {
      "cell_type": "code",
      "source": [
        "plt.plot(result.history['accuracy'])\n",
        "plt.plot(result.history['val_accuracy'])\n",
        "plt.legend(['Training', 'Validation'])\n",
        "plt.title('Training and Validation accuracy')\n",
        "plt.xlabel('epoch')\n",
        "plt.ylabel('accuracy')\n",
        "plt.savefig( 'accuracy.jpg', dpi=500, bbox_inches = 'tight')\n"
      ],
      "metadata": {
        "execution": {
          "iopub.status.busy": "2023-10-27T19:52:27.631063Z",
          "iopub.execute_input": "2023-10-27T19:52:27.631803Z",
          "iopub.status.idle": "2023-10-27T19:52:28.124361Z",
          "shell.execute_reply.started": "2023-10-27T19:52:27.631759Z",
          "shell.execute_reply": "2023-10-27T19:52:28.123142Z"
        },
        "trusted": true,
        "id": "ASwVQJk5PEQm",
        "outputId": "6731a317-0ebb-4961-9edb-4b134b1e4488"
      },
      "execution_count": null,
      "outputs": [
        {
          "output_type": "display_data",
          "data": {
            "text/plain": "<Figure size 432x288 with 1 Axes>",
            "image/png": "[encoded data removed]"
          },
          "metadata": {
            "needs_background": "light"
          }
        }
      ]
    },
    {
      "cell_type": "code",
      "source": [
        "y_pred = best_model.predict(test_images)\n",
        "y_pred"
      ],
      "metadata": {
        "execution": {
          "iopub.status.busy": "2023-10-27T19:52:28.126066Z",
          "iopub.execute_input": "2023-10-27T19:52:28.126484Z",
          "iopub.status.idle": "2023-10-27T19:52:33.369621Z",
          "shell.execute_reply.started": "2023-10-27T19:52:28.126443Z",
          "shell.execute_reply": "2023-10-27T19:52:33.368579Z"
        },
        "trusted": true,
        "id": "kf8yds5-PEQm",
        "outputId": "ba1c4ed3-c452-488e-aba4-e99041cfe717"
      },
      "execution_count": null,
      "outputs": [
        {
          "execution_count": 199,
          "output_type": "execute_result",
          "data": {
            "text/plain": "array([[2.0290765e-03, 9.7887325e-01, 3.2635403e-09, 1.0769176e-06,\n        1.7667716e-02, 1.4289492e-03],\n       [9.6745557e-01, 2.6842259e-04, 8.0768962e-07, 1.3301371e-06,\n        3.1352989e-02, 9.2092599e-04],\n       [2.2884159e-04, 3.2746825e-10, 1.3659179e-04, 9.9149537e-01,\n        1.9106203e-07, 8.1389267e-03],\n       ...,\n       [9.9878544e-01, 1.6128587e-07, 2.8034648e-05, 1.2549354e-05,\n        1.1822071e-05, 1.1619834e-03],\n       [2.3939092e-05, 6.3032091e-01, 2.1759383e-09, 1.0609593e-07,\n        3.6951751e-01, 1.3752066e-04],\n       [3.3606446e-07, 1.9142211e-14, 9.9993813e-01, 6.1562467e-05,\n        1.1943301e-10, 3.5883470e-08]], dtype=float32)"
          },
          "metadata": {}
        }
      ]
    },
    {
      "cell_type": "code",
      "source": [
        "y_pred = np.argmax(y_pred, axis=1)\n",
        "y_pred"
      ],
      "metadata": {
        "execution": {
          "iopub.status.busy": "2023-10-27T19:52:33.370848Z",
          "iopub.execute_input": "2023-10-27T19:52:33.371189Z",
          "iopub.status.idle": "2023-10-27T19:52:33.381877Z",
          "shell.execute_reply.started": "2023-10-27T19:52:33.371155Z",
          "shell.execute_reply": "2023-10-27T19:52:33.380839Z"
        },
        "trusted": true,
        "id": "J6FtNMy-PEQm",
        "outputId": "17c51889-8137-49b9-9e87-aa6e5c13c5c9"
      },
      "execution_count": null,
      "outputs": [
        {
          "execution_count": 200,
          "output_type": "execute_result",
          "data": {
            "text/plain": "array([1, 0, 3, 3, 3, 1, 0, 1, 2, 2, 5, 3, 1, 2, 4, 4, 2, 4, 5, 2, 1, 3,\n       4, 2, 4, 4, 1, 3, 2, 5, 3, 1, 2, 2, 2, 3, 1, 5, 1, 5, 0, 5, 1, 3,\n       1, 4, 1, 4, 1, 0, 2, 2, 0, 3, 3, 0, 0, 0, 4, 0, 3, 5, 2, 5, 3, 0,\n       5, 3, 1, 5, 1, 5, 5, 5, 5, 3, 0, 2, 0, 2, 0, 0, 1, 3, 2, 5, 2, 4,\n       5, 5, 4, 5, 0, 1, 4, 2, 4, 1, 4, 2, 5, 2, 4, 5, 1, 1, 1, 0, 1, 4,\n       2, 4, 4, 5, 2, 2, 2, 3, 3, 3, 0, 2, 4, 0, 1, 3, 4, 1, 1, 5, 4, 5,\n       2, 4, 2, 0, 3, 2, 2, 0, 4, 2, 1, 3, 0, 5, 4, 3, 2, 1, 5, 3, 4, 4,\n       1, 2, 1, 3, 5, 3, 3, 5, 5, 3, 4, 1, 4, 0, 3, 0, 5, 4, 1, 1, 0, 5,\n       2, 5, 5, 2, 5, 0, 1, 3, 4, 1, 4, 1, 4, 2, 1, 4, 3, 4, 1, 4, 0, 0,\n       5, 1, 5, 5, 0, 0, 1, 2, 0, 2, 4, 0, 0, 2, 0, 4, 2, 4, 4, 0, 5, 0,\n       0, 0, 3, 2, 1, 2, 0, 5, 2, 4, 1, 2, 4, 0, 5, 2, 5, 5, 4, 1, 3, 2,\n       4, 4, 5, 0, 0, 3, 2, 3, 2, 4, 2, 3, 4, 4, 3, 3, 0, 0, 4, 0, 2, 1,\n       5, 1, 3, 2, 5, 5, 1, 5, 3, 0, 0, 2, 0, 1, 4, 5, 4, 4, 0, 0, 2, 3,\n       3, 2, 0, 5, 0, 3, 1, 2, 1, 0, 1, 0, 0, 2, 3, 2, 0, 5, 0, 4, 5, 1,\n       4, 4, 1, 1, 1, 1, 5, 5, 5, 0, 5, 1, 5, 1, 1, 2, 2, 0, 2, 0, 3, 2,\n       0, 5, 2, 1, 1, 0, 0, 2, 2, 1, 0, 2, 5, 0, 2, 4, 2, 3, 0, 0, 0, 0,\n       3, 0, 5, 2, 2, 3, 4, 1, 2, 1, 1, 5, 2, 4, 0, 2, 3, 3, 4, 5, 4, 2,\n       1, 3, 4, 0, 2, 1, 1, 4, 3, 1, 0, 4, 5, 1, 0, 0, 1, 1, 2, 3, 0, 0,\n       1, 3, 0, 5, 2, 5, 4, 2, 0, 5, 3, 4, 3, 2, 2, 1, 4, 1, 4, 4, 2, 0,\n       1, 1, 0, 3, 3, 3, 4, 2, 2, 4, 5, 2, 4, 2, 1, 0, 0, 4, 4, 3, 2, 2,\n       5, 0, 3, 1, 1, 2, 1, 3, 3, 1, 1, 3, 2, 4, 0, 2, 4, 1, 2, 5, 3, 3,\n       1, 4, 0, 2, 1, 4, 3, 4, 5, 1, 0, 2, 5, 3, 2, 3, 0, 3, 5, 5, 1, 2,\n       2, 2, 2, 2, 5, 3, 4, 3, 3, 1, 4, 2, 4, 4, 1, 3, 4, 0, 5, 5, 2, 3,\n       5, 3, 5, 4, 0, 0, 3, 4, 3, 5, 1, 3, 2, 3, 5, 3, 4, 2, 4, 5, 5, 0,\n       4, 0, 4, 0, 4, 4, 3, 1, 0, 0, 3, 5, 4, 5, 2, 2, 2, 1, 3, 4, 1, 5,\n       4, 5, 1, 5, 3, 1, 3, 2, 5, 0, 5, 5, 1, 3, 5, 4, 0, 1, 2, 1, 1, 0,\n       3, 5, 2, 1, 5, 2, 1, 3, 3, 4, 2, 2, 0, 2, 2, 2, 3, 3, 3, 5, 3, 0,\n       1, 0, 4, 3, 0, 1, 0, 0, 0, 2, 4, 4, 2, 5, 0, 0, 0, 4, 2, 0, 2, 0,\n       5, 5, 1, 5, 3, 1, 3, 1, 4, 5, 3, 0, 3, 1, 3, 5, 0, 3, 4, 2, 0, 5,\n       4, 4, 3, 2, 5, 0, 0, 0, 1, 3, 2, 3, 1, 5, 1, 3, 1, 2, 2, 2, 5, 1,\n       0, 3, 1, 1, 5, 1, 4, 1, 1, 0, 3, 3, 4, 0, 3, 1, 1, 2, 1, 5, 1, 3,\n       4, 4, 0, 0, 5, 2, 0, 4, 0, 0, 1, 4, 2, 1, 3, 0, 2, 3, 0, 0, 5, 1,\n       5, 3, 5, 1, 2, 2, 2, 1, 5, 1, 5, 0, 5, 5, 2, 5, 2, 2, 3, 1, 2, 4,\n       4, 2, 0, 0, 0, 2, 0, 0, 0, 5, 2, 5, 2, 3, 3, 0, 3, 3, 4, 1, 4, 5,\n       3, 3, 0, 1, 0, 4, 1, 5, 1, 2, 3, 3, 1, 3, 2, 5, 4, 4, 4, 5, 1, 0,\n       0, 0, 5, 4, 1, 3, 4, 5, 1, 1, 4, 0, 4, 0, 5, 5, 1, 5, 2, 1, 3, 0,\n       5, 1, 3, 4, 1, 3, 0, 1, 1, 0, 4, 5, 2, 3, 0, 5, 5, 5, 1, 2, 3, 4,\n       3, 4, 2, 0, 2, 1, 2, 1, 0, 4, 5, 0, 4, 0, 0, 5, 0, 3, 2, 4, 2, 1,\n       0, 2, 0, 5, 0, 3, 5, 4, 3, 1, 4, 0, 3, 3, 4, 2, 0, 1, 1, 5, 3, 1,\n       4, 2, 4, 4, 0, 4, 3, 1, 4, 1, 5, 4, 2, 3, 3, 1, 2, 4, 4, 2, 5, 4,\n       1, 3, 4, 3, 2, 1, 2, 2, 3, 1, 0, 5, 3, 0, 2, 5, 2, 5, 4, 5, 0, 5,\n       3, 3, 2, 5, 3, 5, 3, 5, 4, 4, 1, 1, 1, 0, 5, 1, 5, 0, 1, 2, 3, 2,\n       2, 0, 3, 5, 4, 1, 5, 5, 3, 0, 0, 5, 1, 0, 3, 0, 3, 1, 1, 1, 1, 3,\n       5, 4, 0, 2, 2, 0, 4, 4, 0, 4, 2, 0, 1, 2])"
          },
          "metadata": {}
        }
      ]
    },
    {
      "cell_type": "markdown",
      "source": [
        "# classification report & confusion matrix"
      ],
      "metadata": {
        "id": "6doI87unPEQn"
      }
    },
    {
      "cell_type": "code",
      "source": [
        "from sklearn.metrics import confusion_matrix, classification_report\n",
        "\n",
        "\n",
        "cm = confusion_matrix(test_images.labels, y_pred)\n",
        "print(cm)\n",
        "\n",
        "report = classification_report(test_images.labels, y_pred, target_names=['F', 'M', 'N', 'Q', 'S', 'V'],digits=4)\n",
        "print(report )\n",
        "\n",
        "def report_to_df(report):\n",
        "    report = [x.split(' ') for x in report.split('\\n')]\n",
        "    header = ['Class Name']+[x for x in report[0] if x!='']\n",
        "    values = []\n",
        "    for row in report[1:-5]:\n",
        "        row = [value for value in row if value!='']\n",
        "        if row!=[]:\n",
        "            values.append(row)\n",
        "    df = pd.DataFrame(data = values, columns = header)\n",
        "    return df\n",
        "report = report_to_df(report)\n",
        "\n",
        "report.to_csv('classification report.csv', index=True)\n",
        "\n"
      ],
      "metadata": {
        "execution": {
          "iopub.status.busy": "2023-10-27T19:52:33.383183Z",
          "iopub.execute_input": "2023-10-27T19:52:33.383592Z",
          "iopub.status.idle": "2023-10-27T19:52:33.405553Z",
          "shell.execute_reply.started": "2023-10-27T19:52:33.383541Z",
          "shell.execute_reply": "2023-10-27T19:52:33.404625Z"
        },
        "trusted": true,
        "id": "b9lil3EsPEQn",
        "outputId": "effc127e-bfcc-4985-e476-3f618871c8ac"
      },
      "execution_count": null,
      "outputs": [
        {
          "name": "stdout",
          "text": "[[153   0   0   0   2   5]\n [  0 155   0   0   5   0]\n [  0   0 160   0   0   0]\n [  0   0   7 153   0   0]\n [  3  13   0   0 141   3]\n [ 16   0   0   0   1 143]]\n              precision    recall  f1-score   support\n\n           F     0.8895    0.9563    0.9217       160\n           M     0.9226    0.9688    0.9451       160\n           N     0.9581    1.0000    0.9786       160\n           Q     1.0000    0.9563    0.9776       160\n           S     0.9463    0.8812    0.9126       160\n           V     0.9470    0.8938    0.9196       160\n\n    accuracy                         0.9427       960\n   macro avg     0.9439    0.9427    0.9425       960\nweighted avg     0.9439    0.9427    0.9425       960\n\n",
          "output_type": "stream"
        }
      ]
    },
    {
      "cell_type": "markdown",
      "source": [
        "# ploting the confusion matrix\n"
      ],
      "metadata": {
        "id": "oHzv2vqQPEQw"
      }
    },
    {
      "cell_type": "code",
      "source": [
        "import itertools\n",
        "def plot_confusion_matrix(cm, classes,\n",
        "                          normalize=False,\n",
        "                          title='Confusion matrix',\n",
        "                          cmap=plt.cm.Oranges):\n",
        "    \"\"\"\n",
        "    This function prints and plots the confusion matrix.\n",
        "    Normalization can be applied by setting `normalize=True`.\n",
        "    \"\"\"\n",
        "    if normalize:\n",
        "        cm = cm.astype('float') / cm.sum(axis=1)[:, np.newaxis]\n",
        "        print(\"Normalized confusion matrix\")\n",
        "    else:\n",
        "        print('Confusion matrix, without normalization')\n",
        "    plt.figure(figsize=(8, 6))\n",
        "    plt.imshow(cm, interpolation='nearest', cmap=cmap)\n",
        "    plt.title(title)\n",
        "    tick_marks = np.arange(len(classes))\n",
        "    plt.xticks(tick_marks, classes, rotation=45)\n",
        "    plt.yticks(tick_marks, classes)\n",
        "    plt.colorbar()\n",
        "\n",
        "    fmt = '.4f' if normalize else 'd'\n",
        "    thresh = cm.max() / 2.\n",
        "    for i, j in itertools.product(range(cm.shape[0]), range(cm.shape[1])):\n",
        "        plt.text(j, i, format(cm[i, j], fmt),\n",
        "                 horizontalalignment=\"center\",\n",
        "                 color=\"white\" if cm[i, j] > thresh else \"black\")\n",
        "\n",
        "    plt.tight_layout()\n",
        "    plt.rcParams['font.size'] = '20'\n",
        "\n",
        "\n",
        "plot_confusion_matrix(cm, classes=['F', 'M', 'N', 'Q', 'S', 'V'],normalize=False,title='Confusion matrix')\n",
        "plt.ylabel('True label')\n",
        "plt.xlabel('Predicted label')\n",
        "plt.savefig('confusion matrix' + '.jpg', dpi=500, bbox_inches = 'tight')\n"
      ],
      "metadata": {
        "execution": {
          "iopub.status.busy": "2023-10-27T19:52:33.406811Z",
          "iopub.execute_input": "2023-10-27T19:52:33.407157Z",
          "iopub.status.idle": "2023-10-27T19:52:35.022117Z",
          "shell.execute_reply.started": "2023-10-27T19:52:33.407128Z",
          "shell.execute_reply": "2023-10-27T19:52:35.021035Z"
        },
        "trusted": true,
        "id": "XNasDFYdPEQw",
        "outputId": "210622b7-61fb-4df4-fe43-1310a2a63b75"
      },
      "execution_count": null,
      "outputs": [
        {
          "name": "stdout",
          "text": "Confusion matrix, without normalization\n",
          "output_type": "stream"
        },
        {
          "output_type": "display_data",
          "data": {
            "text/plain": "<Figure size 576x432 with 2 Axes>",
            "image/png": "[encoded data removed]"
          },
          "metadata": {
            "needs_background": "light"
          }
        }
      ]
    },
    {
      "cell_type": "code",
      "source": [
        "import itertools\n",
        "def plot_confusion_matrix(cm, classes,\n",
        "                          normalize=False,\n",
        "                          title='Confusion matrix',\n",
        "                          cmap=plt.cm.Oranges):\n",
        "    \"\"\"\n",
        "    This function prints and plots the confusion matrix.\n",
        "    Normalization can be applied by setting `normalize=True`.\n",
        "    \"\"\"\n",
        "    if normalize:\n",
        "        cm = cm.astype('float') / cm.sum(axis=1)[:, np.newaxis]\n",
        "        print(\"Normalized confusion matrix\")\n",
        "    else:\n",
        "        print('Confusion matrix, without normalization')\n",
        "    plt.figure(figsize=(8, 6))\n",
        "    plt.imshow(cm, interpolation='nearest', cmap=cmap)\n",
        "    plt.title(title)\n",
        "    tick_marks = np.arange(len(classes))\n",
        "    plt.xticks(tick_marks, classes, rotation=45)\n",
        "    plt.yticks(tick_marks, classes)\n",
        "    plt.colorbar()\n",
        "\n",
        "    fmt = '.4f' if normalize else 'd'\n",
        "    thresh = cm.max() / 2.\n",
        "    for i, j in itertools.product(range(cm.shape[0]), range(cm.shape[1])):\n",
        "        plt.text(j, i, format(cm[i, j], fmt),\n",
        "                 horizontalalignment=\"center\",\n",
        "                 color=\"white\" if cm[i, j] > thresh else \"black\")\n",
        "\n",
        "    plt.tight_layout()\n",
        "    plt.rcParams['font.size'] = '16'\n",
        "\n",
        "\n",
        "plot_confusion_matrix(cm, classes=['F', 'M', 'N', 'Q', 'S', 'V'],normalize=True,title='normalized Confusion matrix')\n",
        "plt.ylabel('True label')\n",
        "plt.xlabel('Predicted label')\n",
        "plt.savefig('normalized confusion matrix' + '.jpg', dpi=500, bbox_inches = 'tight')\n"
      ],
      "metadata": {
        "execution": {
          "iopub.status.busy": "2023-10-27T19:52:35.025241Z",
          "iopub.execute_input": "2023-10-27T19:52:35.025560Z",
          "iopub.status.idle": "2023-10-27T19:52:36.902407Z",
          "shell.execute_reply.started": "2023-10-27T19:52:35.025531Z",
          "shell.execute_reply": "2023-10-27T19:52:36.901409Z"
        },
        "trusted": true,
        "id": "gOzz5r_pPEQw",
        "outputId": "0f1882ff-63ab-4d3e-be59-a886d038da2d"
      },
      "execution_count": null,
      "outputs": [
        {
          "name": "stdout",
          "text": "Normalized confusion matrix\n",
          "output_type": "stream"
        },
        {
          "output_type": "display_data",
          "data": {
            "text/plain": "<Figure size 576x432 with 2 Axes>",
            "image/png": "[encoded data removed]"
          },
          "metadata": {
            "needs_background": "light"
          }
        }
      ]
    },
    {
      "cell_type": "code",
      "source": [],
      "metadata": {
        "id": "tr8B8DcUPEQx"
      },
      "execution_count": null,
      "outputs": []
    }
  ]
}